{
 "cells": [
  {
   "cell_type": "markdown",
   "metadata": {},
   "source": [
    "# first GMM APPROACH"
   ]
  },
  {
   "cell_type": "code",
   "execution_count": 1,
   "metadata": {
    "collapsed": true
   },
   "outputs": [],
   "source": [
    "import matplotlib.pyplot as plt\n",
    "import numpy as np\n",
    "import pandas as pd\n",
    "from matplotlib.patches import Ellipse\n",
    "import math\n",
    "import edward as ed\n",
    "import tensorflow as tf\n",
    "from matplotlib import pyplot as plt\n",
    "from edward.models import Empirical, MultivariateNormalTriL"
   ]
  },
  {
   "cell_type": "markdown",
   "metadata": {},
   "source": [
    "# import data\n",
    "* all_sky_star = []: skies\n",
    "    * all_sky_star[i]: one sky\n",
    "        * all_sky_star[i][0]: galaxy name\n",
    "        * all_sky_star[i][1]: galaxy x position\n",
    "        * all_sky_star[i][2]: galaxy y position\n",
    "        * all_sky_star[i][3]: galaxy E1\n",
    "        * all_sky_star[i][4]: galaxy E2\n",
    "* halo = []:halos\n",
    "    * halo[i] :halo for sky i\n",
    "        * halo[i][0]: sky name\n",
    "        * halo[i][1]: number of halos\n",
    "        * halo[i][2]: halo1 x\n",
    "        * halo[i][3]: halo1 y\n",
    "        * ...\n",
    "        * halo[i][7]: halo3 y"
   ]
  },
  {
   "cell_type": "code",
   "execution_count": 2,
   "metadata": {
    "collapsed": true
   },
   "outputs": [],
   "source": [
    "path = \"~/probp.finalproject/datasets\"\n",
    "all_sky_star = []\n",
    "for sky in np.arange(1,301,1):\n",
    "    sky_path = \"Train_Skies/Training_Sky\"+str(sky)+\".csv\"\n",
    "    halo_path = \"Training_halos.csv\"\n",
    "    star = (pd.read_csv(path+\"/\"+sky_path).values)\n",
    "    all_sky_star.append(star)\n",
    "halo = (pd.read_csv(path+\"/\"+halo_path).values)"
   ]
  },
  {
   "cell_type": "code",
   "execution_count": 47,
   "metadata": {},
   "outputs": [
    {
     "name": "stdout",
     "output_type": "stream",
     "text": [
      "3551.9 1429.02\n"
     ]
    },
    {
     "data": {
      "text/plain": [
       "<matplotlib.figure.Figure at 0x127e72908>"
      ]
     },
     "metadata": {},
     "output_type": "display_data"
    },
    {
     "name": "stdout",
     "output_type": "stream",
     "text": [
      "0.05220716586945728\n",
      "0.04845661364146496\n",
      "677\n"
     ]
    }
   ],
   "source": [
    "#plot e1e2\n",
    "sky = 12\n",
    "plt.clf()\n",
    "#plt.scatter(all_sky_star[sky][:,3],all_sky_star[sky][:,4])\n",
    "print(halo[12,2],halo[12,3])\n",
    "plt.show()\n",
    "var_e1 = np.var(all_sky_star[sky][:,3])\n",
    "var_e2 = np.var(all_sky_star[sky][:,4])\n",
    "print(var_e1)\n",
    "print(var_e2)\n",
    "pos_xy = all_sky_star[sky][:,1:3]\n",
    "num = pos_xy.shape[0]\n",
    "e1_e2 = all_sky_star[sky][:,3:5]\n",
    "print(num)"
   ]
  },
  {
   "cell_type": "code",
   "execution_count": null,
   "metadata": {
    "collapsed": true
   },
   "outputs": [],
   "source": []
  },
  {
   "cell_type": "code",
   "execution_count": null,
   "metadata": {
    "collapsed": true
   },
   "outputs": [],
   "source": []
  },
  {
   "cell_type": "code",
   "execution_count": 28,
   "metadata": {},
   "outputs": [
    {
     "ename": "TypeError",
     "evalue": "Posterior approximation must consist of only Empirical random variables.",
     "output_type": "error",
     "traceback": [
      "\u001b[0;31m---------------------------------------------------------------------------\u001b[0m",
      "\u001b[0;31mTypeError\u001b[0m                                 Traceback (most recent call last)",
      "\u001b[0;32m<ipython-input-28-d3a1c485069c>\u001b[0m in \u001b[0;36m<module>\u001b[0;34m()\u001b[0m\n\u001b[1;32m     10\u001b[0m     scale_tril=tf.cholesky(tf.constant([[1.0, 0.8], [0.8, 1.0]])))\n\u001b[1;32m     11\u001b[0m \u001b[0mdata\u001b[0m \u001b[0;34m=\u001b[0m \u001b[0mhalo\u001b[0m\u001b[0;34m[\u001b[0m\u001b[0;34m:\u001b[0m\u001b[0;34m,\u001b[0m\u001b[0;36m2\u001b[0m\u001b[0;34m:\u001b[0m\u001b[0;36m4\u001b[0m\u001b[0;34m]\u001b[0m\u001b[0;34m\u001b[0m\u001b[0m\n\u001b[0;32m---> 12\u001b[0;31m \u001b[0minference\u001b[0m \u001b[0;34m=\u001b[0m \u001b[0med\u001b[0m\u001b[0;34m.\u001b[0m\u001b[0mHMC\u001b[0m\u001b[0;34m(\u001b[0m\u001b[0;34m{\u001b[0m\u001b[0mz\u001b[0m\u001b[0;34m:\u001b[0m \u001b[0mdata\u001b[0m\u001b[0;34m}\u001b[0m\u001b[0;34m)\u001b[0m\u001b[0;34m\u001b[0m\u001b[0m\n\u001b[0m\u001b[1;32m     13\u001b[0m \u001b[0minference\u001b[0m\u001b[0;34m.\u001b[0m\u001b[0mrun\u001b[0m\u001b[0;34m(\u001b[0m\u001b[0;34m)\u001b[0m\u001b[0;34m\u001b[0m\u001b[0m\n\u001b[1;32m     14\u001b[0m \u001b[0;31m# CRITICISM\u001b[0m\u001b[0;34m\u001b[0m\u001b[0;34m\u001b[0m\u001b[0m\n",
      "\u001b[0;32m/usr/local/lib/python3.6/site-packages/edward/inferences/hmc.py\u001b[0m in \u001b[0;36m__init__\u001b[0;34m(self, *args, **kwargs)\u001b[0m\n\u001b[1;32m     46\u001b[0m   \"\"\"\n\u001b[1;32m     47\u001b[0m   \u001b[0;32mdef\u001b[0m \u001b[0m__init__\u001b[0m\u001b[0;34m(\u001b[0m\u001b[0mself\u001b[0m\u001b[0;34m,\u001b[0m \u001b[0;34m*\u001b[0m\u001b[0margs\u001b[0m\u001b[0;34m,\u001b[0m \u001b[0;34m**\u001b[0m\u001b[0mkwargs\u001b[0m\u001b[0;34m)\u001b[0m\u001b[0;34m:\u001b[0m\u001b[0;34m\u001b[0m\u001b[0m\n\u001b[0;32m---> 48\u001b[0;31m     \u001b[0msuper\u001b[0m\u001b[0;34m(\u001b[0m\u001b[0mHMC\u001b[0m\u001b[0;34m,\u001b[0m \u001b[0mself\u001b[0m\u001b[0;34m)\u001b[0m\u001b[0;34m.\u001b[0m\u001b[0m__init__\u001b[0m\u001b[0;34m(\u001b[0m\u001b[0;34m*\u001b[0m\u001b[0margs\u001b[0m\u001b[0;34m,\u001b[0m \u001b[0;34m**\u001b[0m\u001b[0mkwargs\u001b[0m\u001b[0;34m)\u001b[0m\u001b[0;34m\u001b[0m\u001b[0m\n\u001b[0m\u001b[1;32m     49\u001b[0m \u001b[0;34m\u001b[0m\u001b[0m\n\u001b[1;32m     50\u001b[0m   \u001b[0;32mdef\u001b[0m \u001b[0minitialize\u001b[0m\u001b[0;34m(\u001b[0m\u001b[0mself\u001b[0m\u001b[0;34m,\u001b[0m \u001b[0mstep_size\u001b[0m\u001b[0;34m=\u001b[0m\u001b[0;36m0.25\u001b[0m\u001b[0;34m,\u001b[0m \u001b[0mn_steps\u001b[0m\u001b[0;34m=\u001b[0m\u001b[0;36m2\u001b[0m\u001b[0;34m,\u001b[0m \u001b[0;34m*\u001b[0m\u001b[0margs\u001b[0m\u001b[0;34m,\u001b[0m \u001b[0;34m**\u001b[0m\u001b[0mkwargs\u001b[0m\u001b[0;34m)\u001b[0m\u001b[0;34m:\u001b[0m\u001b[0;34m\u001b[0m\u001b[0m\n",
      "\u001b[0;32m/usr/local/lib/python3.6/site-packages/edward/inferences/monte_carlo.py\u001b[0m in \u001b[0;36m__init__\u001b[0;34m(self, latent_vars, data)\u001b[0m\n\u001b[1;32m     84\u001b[0m       \u001b[0;32mfor\u001b[0m \u001b[0mqz\u001b[0m \u001b[0;32min\u001b[0m \u001b[0msix\u001b[0m\u001b[0;34m.\u001b[0m\u001b[0mitervalues\u001b[0m\u001b[0;34m(\u001b[0m\u001b[0mlatent_vars\u001b[0m\u001b[0;34m)\u001b[0m\u001b[0;34m:\u001b[0m\u001b[0;34m\u001b[0m\u001b[0m\n\u001b[1;32m     85\u001b[0m         \u001b[0;32mif\u001b[0m \u001b[0;32mnot\u001b[0m \u001b[0misinstance\u001b[0m\u001b[0;34m(\u001b[0m\u001b[0mqz\u001b[0m\u001b[0;34m,\u001b[0m \u001b[0mEmpirical\u001b[0m\u001b[0;34m)\u001b[0m\u001b[0;34m:\u001b[0m\u001b[0;34m\u001b[0m\u001b[0m\n\u001b[0;32m---> 86\u001b[0;31m           raise TypeError(\"Posterior approximation must consist of only \"\n\u001b[0m\u001b[1;32m     87\u001b[0m                           \"Empirical random variables.\")\n\u001b[1;32m     88\u001b[0m         \u001b[0;32melif\u001b[0m \u001b[0mlen\u001b[0m\u001b[0;34m(\u001b[0m\u001b[0mqz\u001b[0m\u001b[0;34m.\u001b[0m\u001b[0msample_shape\u001b[0m\u001b[0;34m)\u001b[0m \u001b[0;34m!=\u001b[0m \u001b[0;36m0\u001b[0m\u001b[0;34m:\u001b[0m\u001b[0;34m\u001b[0m\u001b[0m\n",
      "\u001b[0;31mTypeError\u001b[0m: Posterior approximation must consist of only Empirical random variables."
     ]
    }
   ],
   "source": [
    "#plot e1e2\n",
    "sky = 2\n",
    "plt.clf()\n",
    "#plt.scatter(all_sky_star[sky][:,3],all_sky_star[sky][:,4])\n",
    "#plt.scatter(halo[:,2:4])\n",
    "#plt.show()\n",
    "\n",
    "z = MultivariateNormalTriL(\n",
    "    loc=tf.ones(2),\n",
    "    scale_tril=tf.cholesky(tf.constant([[1.0, 0.8], [0.8, 1.0]])))\n",
    "data = halo[:,2:4]\n",
    "inference = ed.HMC({z: data})\n",
    "inference.run()\n",
    "# CRITICISM\n",
    "sess = ed.get_session()\n",
    "mean, stddev = sess.run([qz.mean(), qz.stddev()])\n",
    "print(\"Inferred posterior mean:\")\n",
    "print(mean)\n",
    "print(\"Inferred posterior stddev:\")\n",
    "print(stddev)\n",
    "\n",
    "fig, ax = plt.subplots()\n",
    "trace = sess.run(qz.params)\n",
    "ax.scatter(trace[:, 0], trace[:, 1], marker=\".\")\n",
    "mvn_plot_contours(z, ax=ax)\n",
    "plt.show()"
   ]
  },
  {
   "cell_type": "code",
   "execution_count": null,
   "metadata": {
    "collapsed": true
   },
   "outputs": [],
   "source": []
  },
  {
   "cell_type": "code",
   "execution_count": 52,
   "metadata": {},
   "outputs": [
    {
     "name": "stdout",
     "output_type": "stream",
     "text": [
      "[[2051.13 421.4]\n",
      " [2329.33 3959.26]\n",
      " [1232.73 1157.19]\n",
      " ..., \n",
      " [1464.19 2305.19]\n",
      " [590.29 3927.07]\n",
      " [1056.51 469.39]]\n",
      "10000/10000 [100%] ██████████████████████████████ Elapsed: 18s | Acceptance Rate: 1.000\n"
     ]
    }
   ],
   "source": [
    "import edward as ed\n",
    "import matplotlib.pyplot as plt\n",
    "import numpy as np\n",
    "import tensorflow as tf\n",
    "import tensorflow.contrib.distributions as ds\n",
    "\n",
    "from edward.models import Normal, Uniform, Gamma\n",
    "\n",
    "def gamma_q(shape):\n",
    "  # Parameterize Gamma q's via shape and scale, with softplus unconstraints.\n",
    "  min_shape = 1e-3\n",
    "  min_scale = 1e-5\n",
    "  shape_init = 0.5 + 0.1 * tf.random_normal(shape)\n",
    "  scale_init = 0.1 * tf.random_normal(shape)\n",
    "  rv = Gamma(tf.maximum(tf.nn.softplus(tf.Variable(shape_init)),\n",
    "                        min_shape),\n",
    "             tf.maximum(1.0 / tf.nn.softplus(tf.Variable(scale_init)),\n",
    "                        1.0 / min_scale))\n",
    "  return rv\n",
    "\n",
    "N = num\n",
    "\n",
    "# Model\n",
    "\n",
    "X = tf.placeholder(tf.float32, [N, 2])\n",
    "X_e1 = e1_e2[:,:1].reshape(N).tolist()\n",
    "X_e2 = e1_e2[:,1:].reshape(N).tolist()\n",
    "\n",
    "print(pos_xy)\n",
    "Xh = Uniform(low=[0.,0.],high=[4200.,4200.])#Normal(tf.ones(2) * 2100, scale=tf.constant(1200000.))\n",
    "\n",
    "m = tf.constant(120.) # Gamma(2.0, 2.0)\n",
    "\n",
    "sigma = tf.constant(.05) # Normal(loc=tf.zeros(1), scale=tf.ones(1))\n",
    "\n",
    "l2diff = tf.sqrt(tf.reduce_sum(tf.square(X - Xh), reduction_indices=1))\n",
    "\n",
    "sess = ed.get_session()\n",
    "\n",
    "# print(sess.run(l2diff,{X:pos_xy,e:e1_e2}))\n",
    "\n",
    "mu = m / tf.maximum(l2diff, 240)\n",
    "\n",
    "e1 = Normal(loc = mu, scale = sigma)\n",
    "e2 = Normal(loc = mu, scale = sigma)\n",
    "\n"
   ]
  },
  {
   "cell_type": "markdown",
   "metadata": {},
   "source": [
    "# Inference"
   ]
  },
  {
   "cell_type": "code",
   "execution_count": 56,
   "metadata": {},
   "outputs": [
    {
     "name": "stdout",
     "output_type": "stream",
     "text": [
      "200000/200000 [100%] ██████████████████████████████ Elapsed: 319s | Acceptance Rate: 1.000\n"
     ]
    }
   ],
   "source": [
    "# Inference\n",
    "\n",
    "# qm = Empirical(params=tf.Variable(tf.zeros(1000)))\n",
    "qXh = Empirical(params=tf.Variable(tf.zeros([200000, 2])))\n",
    "\n",
    "inference = ed.SGHMC({Xh: qXh}, data={X: pos_xy, e1:X_e1, e2:X_e2})\n",
    "inference.run()"
   ]
  },
  {
   "cell_type": "markdown",
   "metadata": {
    "collapsed": true
   },
   "source": [
    "# Criticism"
   ]
  },
  {
   "cell_type": "code",
   "execution_count": 57,
   "metadata": {},
   "outputs": [
    {
     "name": "stdout",
     "output_type": "stream",
     "text": [
      "[-1117.75939941  -816.0625    ] [ 360.69049072  254.69633484]\n"
     ]
    },
    {
     "data": {
      "image/png": "[encoded data removed]",
      "text/plain": [
       "<matplotlib.figure.Figure at 0x12d154ef0>"
      ]
     },
     "metadata": {},
     "output_type": "display_data"
    },
    {
     "data": {
      "image/png": "[encoded data removed]",
      "text/plain": [
       "<matplotlib.figure.Figure at 0x127e13390>"
      ]
     },
     "metadata": {},
     "output_type": "display_data"
    }
   ],
   "source": [
    "mean, stddev = sess.run([qXh.mean(), qXh.stddev()])\n",
    "print(mean, stddev)\n",
    "samples = sess.run(qXh.params)\n",
    "plt.hist(samples, bins='auto')\n",
    "plt.show()\n",
    "\n",
    "# Trace plot.\n",
    "plt.plot(samples)\n",
    "plt.show()\n"
   ]
  },
  {
   "cell_type": "code",
   "execution_count": null,
   "metadata": {
    "collapsed": true
   },
   "outputs": [],
   "source": []
  },
  {
   "cell_type": "markdown",
   "metadata": {},
   "source": [
    "# Example"
   ]
  },
  {
   "cell_type": "code",
   "execution_count": 7,
   "metadata": {},
   "outputs": [
    {
     "name": "stdout",
     "output_type": "stream",
     "text": [
      "1000/1000 [100%] ██████████████████████████████ Elapsed: 3s | Acceptance Rate: 0.978\n",
      "Inferred posterior mean:\n",
      "[ 0.99173146  0.96531749]\n",
      "Inferred posterior stddev:\n",
      "[ 0.87583339  0.8712579 ]\n"
     ]
    },
    {
     "data": {
      "image/png": "[encoded data removed]",
      "text/plain": [
       "<matplotlib.figure.Figure at 0x10a972898>"
      ]
     },
     "metadata": {},
     "output_type": "display_data"
    }
   ],
   "source": [
    "def mvn_plot_contours(z, label=False, ax=None):\n",
    "  \"\"\"Plot the contours of 2-d Normal or MultivariateNormal object.\n",
    "  Scale the axes to show 3 standard deviations.\n",
    "  \"\"\"\n",
    "  sess = ed.get_session()\n",
    "  mu = sess.run(z.parameters['loc'])\n",
    "  mu_x, mu_y = mu\n",
    "  Sigma = sess.run(z.parameters['scale_tril'])\n",
    "  sigma_x, sigma_y = np.sqrt(Sigma[0, 0]), np.sqrt(Sigma[1, 1])\n",
    "  xmin, xmax = mu_x - 3 * sigma_x, mu_x + 3 * sigma_x\n",
    "  ymin, ymax = mu_y - 3 * sigma_y, mu_y + 3 * sigma_y\n",
    "  xs = np.linspace(xmin, xmax, num=100)\n",
    "  ys = np.linspace(ymin, ymax, num=100)\n",
    "  X, Y = np.meshgrid(xs, ys)\n",
    "  T = tf.cast(np.c_[X.flatten(), Y.flatten()], dtype=tf.float32)\n",
    "  Z = sess.run(tf.exp(z.log_prob(T))).reshape((len(xs), len(ys)))\n",
    "  if ax is None:\n",
    "    fig, ax = plt.subplots()\n",
    "  cs = ax.contour(X, Y, Z)\n",
    "  if label:\n",
    "    plt.clabel(cs, inline=1, fontsize=10)\n",
    "\n",
    "\n",
    "ed.set_seed(42)\n",
    "\n",
    "# MODEL\n",
    "z = MultivariateNormalTriL(\n",
    "    loc=tf.ones(2),\n",
    "    scale_tril=tf.cholesky(tf.constant([[1.0, 0.8], [0.8, 1.0]])))\n",
    "\n",
    "# INFERENCE\n",
    "qz = Empirical(params=tf.Variable(tf.random_normal([1000, 2])))\n",
    "\n",
    "inference = ed.HMC({z: qz})\n",
    "inference.run()\n",
    "\n",
    "# CRITICISM\n",
    "sess = ed.get_session()\n",
    "mean, stddev = sess.run([qz.mean(), qz.stddev()])\n",
    "print(\"Inferred posterior mean:\")\n",
    "print(mean)\n",
    "print(\"Inferred posterior stddev:\")\n",
    "print(stddev)\n",
    "\n",
    "fig, ax = plt.subplots()\n",
    "trace = sess.run(qz.params)\n",
    "ax.scatter(trace[:, 0], trace[:, 1], marker=\".\")\n",
    "mvn_plot_contours(z, ax=ax)\n",
    "plt.show()"
   ]
  }
 ],
 "metadata": {
  "kernelspec": {
   "display_name": "Python 3",
   "language": "python",
   "name": "python3"
  },
  "language_info": {
   "codemirror_mode": {
    "name": "ipython",
    "version": 3
   },
   "file_extension": ".py",
   "mimetype": "text/x-python",
   "name": "python",
   "nbconvert_exporter": "python",
   "pygments_lexer": "ipython3",
   "version": "3.6.2"
  }
 },
 "nbformat": 4,
 "nbformat_minor": 2
}
